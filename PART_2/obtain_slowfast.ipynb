{
 "cells": [
  {
   "cell_type": "code",
   "execution_count": null,
   "metadata": {},
   "outputs": [
    {
     "name": "stdout",
     "output_type": "stream",
     "text": [
      "WARNING:tensorflow:From C:\\Users\\kruth\\AppData\\Roaming\\Python\\Python39\\site-packages\\tf_keras\\src\\losses.py:2976: The name tf.losses.sparse_softmax_cross_entropy is deprecated. Please use tf.compat.v1.losses.sparse_softmax_cross_entropy instead.\n",
      "\n",
      "WARNING:tensorflow:From C:\\Users\\kruth\\AppData\\Roaming\\Python\\Python39\\site-packages\\tensorflow_hub\\resolver.py:120: The name tf.gfile.MakeDirs is deprecated. Please use tf.io.gfile.makedirs instead.\n",
      "\n"
     ]
    },
    {
     "name": "stderr",
     "output_type": "stream",
     "text": [
      "WARNING:tensorflow:From C:\\Users\\kruth\\AppData\\Roaming\\Python\\Python39\\site-packages\\tensorflow_hub\\resolver.py:120: The name tf.gfile.MakeDirs is deprecated. Please use tf.io.gfile.makedirs instead.\n",
      "\n"
     ]
    },
    {
     "name": "stdout",
     "output_type": "stream",
     "text": [
      "WARNING:tensorflow:From C:\\Users\\kruth\\AppData\\Roaming\\Python\\Python39\\site-packages\\tensorflow_hub\\module_v2.py:126: The name tf.saved_model.load_v2 is deprecated. Please use tf.compat.v2.saved_model.load instead.\n",
      "\n"
     ]
    },
    {
     "name": "stderr",
     "output_type": "stream",
     "text": [
      "WARNING:tensorflow:From C:\\Users\\kruth\\AppData\\Roaming\\Python\\Python39\\site-packages\\tensorflow_hub\\module_v2.py:126: The name tf.saved_model.load_v2 is deprecated. Please use tf.compat.v2.saved_model.load instead.\n",
      "\n"
     ]
    },
    {
     "name": "stdout",
     "output_type": "stream",
     "text": [
      "(1, 1024, 16, 7, 7)\n"
     ]
    }
   ],
   "source": [
    "import tensorflow as tf\n",
    "import tensorflow_hub as hub\n",
    "\n",
    "model = hub.load(\"https://www.kaggle.com/models/kaggle/video-swin-transformer/TensorFlow2/swin-base-patch244-window877-kinetics600-22k/1\")\n",
    "\n"
   ]
  },
  {
   "cell_type": "code",
   "execution_count": 3,
   "metadata": {},
   "outputs": [
    {
     "name": "stdout",
     "output_type": "stream",
     "text": [
      "Extracted Anomaly-Videos-Part-1.zip\n",
      "Extracted Anomaly-Videos-Part-2.zip\n",
      "Extracted Anomaly-Videos-Part-3.zip\n",
      "Extracted Anomaly-Videos-Part-4.zip\n",
      "Extracted Testing_Normal_Videos.zip\n",
      "Extracted UCF_Crimes-Train-Test-Split.zip\n",
      "Extracted Normal_Videos_for_Event_Recognition.zip\n",
      "Extracted Training-Normal-Videos-Part-1.zip\n"
     ]
    }
   ],
   "source": [
    "# list all the files in the directory\n",
    "import os\n",
    "import zipfile\n",
    "\n",
    "dataset_addr = \"E:\\\\Datasets\\\\UCF_crime_from_dropbox\"\n",
    "\n",
    "for file in os.listdir(dataset_addr):\n",
    "    if file.endswith(\".zip\"):\n",
    "        with zipfile.ZipFile(os.path.join(dataset_addr, file), 'r') as zip_ref:\n",
    "            zip_ref.extractall(dataset_addr)\n",
    "            print(f\"Extracted {file}\")\n"
   ]
  },
  {
   "cell_type": "code",
   "execution_count": 6,
   "metadata": {},
   "outputs": [
    {
     "name": "stdout",
     "output_type": "stream",
     "text": [
      "Dataset split completed.\n"
     ]
    }
   ],
   "source": [
    "import os\n",
    "import shutil\n",
    "from sklearn.model_selection import train_test_split\n",
    "\n",
    "# Define paths\n",
    "dataset_path = dataset_addr\n",
    "output_path = 'E:\\\\Datasets\\\\train_test_ucf_crime'\n",
    "os.makedirs(output_path, exist_ok=True)\n",
    "\n",
    "# Create directories for train, val, and test splits\n",
    "splits = ['train', 'val', 'test']\n",
    "for split in splits:\n",
    "    split_path = os.path.join(output_path, split)\n",
    "    os.makedirs(split_path, exist_ok=True)\n",
    "\n",
    "# List all videos and their class labels\n",
    "videos = []\n",
    "labels = []\n",
    "for part in ['Anomaly-Videos-Part-1', 'Anomaly-Videos-Part-2', 'Anomaly-Videos-Part-3', 'Anomaly-Videos-Part-4']:\n",
    "    part_path = os.path.join(dataset_path, part)\n",
    "    for class_name in os.listdir(part_path):\n",
    "        class_path = os.path.join(part_path, class_name)\n",
    "        if os.path.isdir(class_path):\n",
    "            for video in os.listdir(class_path):\n",
    "                video_path = os.path.join(class_path, video)\n",
    "                if os.path.isfile(video_path):\n",
    "                    videos.append(video_path)\n",
    "                    labels.append(class_name)\n",
    "\n",
    "# Split the dataset\n",
    "train_videos, test_videos, train_labels, test_labels = train_test_split(videos, labels, test_size=0.2, stratify=labels, random_state=42)\n",
    "train_videos, val_videos, train_labels, val_labels = train_test_split(train_videos, train_labels, test_size=0.2, stratify=train_labels, random_state=42)\n",
    "\n",
    "# Function to move files to the respective directories\n",
    "def move_files(file_paths, labels, split):\n",
    "    for file_path, label in zip(file_paths, labels):\n",
    "        split_path = os.path.join(output_path, split, label)\n",
    "        os.makedirs(split_path, exist_ok=True)\n",
    "        shutil.copy(file_path, split_path)\n",
    "\n",
    "# Move files to train, val, and test directories\n",
    "move_files(train_videos, train_labels, 'train')\n",
    "move_files(val_videos, val_labels, 'val')\n",
    "move_files(test_videos, test_labels, 'test')\n",
    "\n",
    "print(\"Dataset split completed.\")"
   ]
  },
  {
   "cell_type": "code",
   "execution_count": null,
   "metadata": {},
   "outputs": [],
   "source": []
  }
 ],
 "metadata": {
  "kernelspec": {
   "display_name": "tf_gpu",
   "language": "python",
   "name": "python3"
  },
  "language_info": {
   "codemirror_mode": {
    "name": "ipython",
    "version": 3
   },
   "file_extension": ".py",
   "mimetype": "text/x-python",
   "name": "python",
   "nbconvert_exporter": "python",
   "pygments_lexer": "ipython3",
   "version": "3.9.18"
  }
 },
 "nbformat": 4,
 "nbformat_minor": 2
}
